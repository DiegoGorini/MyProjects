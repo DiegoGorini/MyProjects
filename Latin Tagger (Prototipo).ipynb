{
 "cells": [
  {
   "cell_type": "markdown",
   "metadata": {},
   "source": [
    "Il testo caricato dall'utente (magari in .word, o .txt) viene assegnato a una variabile ´text´. Questa variabile è propriamente la stringa con l'input text."
   ]
  },
  {
   "cell_type": "code",
   "execution_count": 12,
   "metadata": {},
   "outputs": [],
   "source": [
    "text = \"\"\"\n",
    "Sempre caro mi fu quest'ermo colle,\n",
    "E questa siepe, che da tanta parte\n",
    "Dell'ultimo orizzonte il guardo esclude.\n",
    "Ma sedendo e mirando, interminati\n",
    "Spazi di là da quella, e sovrumani\n",
    "Silenzi, e profondissima quiete\n",
    "Io nel pensier mi fingo; ove per poco\n",
    "Il cor non si spaura. E come il vento\n",
    "Odo stormir tra queste piante, io quello\n",
    "Infinito silenzio a questa voce\n",
    "Vo comparando: e mi sovvien l'eterno,\n",
    "E le morte stagioni, e la presente\n",
    "E viva, e il suon di lei. Così tra questa\n",
    "Immensità s'annega il pensier mio:\n",
    "E il naufragar m'è dolce in questo mare.\n",
    "\"\"\""
   ]
  },
  {
   "cell_type": "markdown",
   "metadata": {},
   "source": [
    "Una funzione (o, più probabilmente, una serie di funzioni) trasforma la stringa contenuta nella variabile in un'altra stringa. Qui, a modo di esempio, ho semplicemente appiccicato a ciascuna parola del input_text il corrispettivo numero di caratteri (tolta la punteggiatura). "
   ]
  },
  {
   "cell_type": "code",
   "execution_count": 74,
   "metadata": {},
   "outputs": [],
   "source": [
    "import regex as re\n",
    "\n",
    "def function_test(input_text):\n",
    "    \n",
    "    input_text = re.sub(\"[.,:']+\", ' ', input_text)\n",
    "\n",
    "    new = []\n",
    "    for i in list(input_text.split()):\n",
    "        n = len(i)\n",
    "        i = i + \"_\" + str(n)\n",
    "        new.append(i)\n",
    "    \n",
    "    return ' '.join(new)"
   ]
  },
  {
   "cell_type": "code",
   "execution_count": 75,
   "metadata": {},
   "outputs": [],
   "source": [
    "output_text = function_test(text)"
   ]
  },
  {
   "cell_type": "markdown",
   "metadata": {},
   "source": [
    "Dunque, per ogni file caricato dall'utente, alla fine, tu ti ritrovi con una stringa come la seguente:"
   ]
  },
  {
   "cell_type": "code",
   "execution_count": 76,
   "metadata": {},
   "outputs": [
    {
     "data": {
      "text/plain": [
       "'Sempre_6 caro_4 mi_2 fu_2 quest_5 ermo_4 colle_5 E_1 questa_6 siepe_5 che_3 da_2 tanta_5 parte_5 Dell_4 ultimo_6 orizzonte_9 il_2 guardo_6 esclude_7 Ma_2 sedendo_7 e_1 mirando_7 interminati_11 Spazi_5 di_2 là_2 da_2 quella_6 e_1 sovrumani_9 Silenzi_7 e_1 profondissima_13 quiete_6 Io_2 nel_3 pensier_7 mi_2 fingo;_6 ove_3 per_3 poco_4 Il_2 cor_3 non_3 si_2 spaura_6 E_1 come_4 il_2 vento_5 Odo_3 stormir_7 tra_3 queste_6 piante_6 io_2 quello_6 Infinito_8 silenzio_8 a_1 questa_6 voce_4 Vo_2 comparando_10 e_1 mi_2 sovvien_7 l_1 eterno_6 E_1 le_2 morte_5 stagioni_8 e_1 la_2 presente_8 E_1 viva_4 e_1 il_2 suon_4 di_2 lei_3 Così_4 tra_3 questa_6 Immensità_9 s_1 annega_6 il_2 pensier_7 mio_3 E_1 il_2 naufragar_9 m_1 è_1 dolce_5 in_2 questo_6 mare_4'"
      ]
     },
     "execution_count": 76,
     "metadata": {},
     "output_type": "execute_result"
    }
   ],
   "source": [
    "output_text"
   ]
  },
  {
   "cell_type": "markdown",
   "metadata": {},
   "source": [
    "Nel caso reale, al posto dei numeri troveresti le definizioni delle parole, che nel documento finale (ancora, magari in .word o .pdf) devono essere ricollocate o accanto alla parola o, peggio, in fondo alla pagina. "
   ]
  }
 ],
 "metadata": {
  "kernelspec": {
   "display_name": "Python 3",
   "language": "python",
   "name": "python3"
  },
  "language_info": {
   "codemirror_mode": {
    "name": "ipython",
    "version": 3
   },
   "file_extension": ".py",
   "mimetype": "text/x-python",
   "name": "python",
   "nbconvert_exporter": "python",
   "pygments_lexer": "ipython3",
   "version": "3.7.1"
  }
 },
 "nbformat": 4,
 "nbformat_minor": 2
}
